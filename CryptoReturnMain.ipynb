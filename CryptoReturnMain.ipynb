{
 "cells": [
  {
   "cell_type": "code",
   "execution_count": 73,
   "outputs": [],
   "source": [
    "from binance.client import Client\n",
    "import pandas as pd\n",
    "import requests\n",
    "\n",
    "def get_historical_prices(api_key, api_secret, symbol, start_date, end_date):\n",
    "    client = Client(api_key, api_secret)\n",
    "    klines = client.get_historical_klines(symbol, Client.KLINE_INTERVAL_1HOUR, start_date, end_date)\n",
    "    df = pd.DataFrame(klines, columns=['open_time', 'open', 'high', 'low', 'close', 'volume', 'close_time', 'quote_asset_volume', 'number_of_trades', 'taker_buy_base_asset_volume', 'taker_buy_quote_asset_volume', 'ignored'])\n",
    "    df['open_time'] = pd.to_datetime(df['open_time'], unit='ms')\n",
    "    df['close_time'] = pd.to_datetime(df['close_time'], unit='ms')\n",
    "    df.set_index('open_time', inplace=True)\n",
    "    df.drop(columns=['ignored'], inplace=True)\n",
    "    return df\n"
   ],
   "metadata": {
    "collapsed": false,
    "ExecuteTime": {
     "end_time": "2023-05-10T10:23:30.944904600Z",
     "start_time": "2023-05-10T10:23:30.934924400Z"
    }
   }
  },
  {
   "cell_type": "code",
   "execution_count": 74,
   "outputs": [],
   "source": [
    "def get_crypto_data(api_key, api_secret, crypto_list, start_date, end_date):\n",
    "    for symbol in crypto_list:\n",
    "        try:\n",
    "            # Retrieve historical prices for the cryptocurrency\n",
    "            df = get_historical_prices(api_key, api_secret, symbol + 'USDT', start_date, end_date)\n",
    "            df.to_csv(symbol + '.csv')\n",
    "        except Exception as e:\n",
    "            print(f'Failed to retrieve data for {symbol}. Error: {str(e)}')\n"
   ],
   "metadata": {
    "collapsed": false,
    "ExecuteTime": {
     "end_time": "2023-05-10T10:23:31.789281200Z",
     "start_time": "2023-05-10T10:23:31.772841200Z"
    }
   }
  },
  {
   "cell_type": "code",
   "execution_count": 75,
   "outputs": [],
   "source": [
    "binance_api_key = ''\n",
    "binance_secret_key = ''\n",
    "\n",
    "start_date = '2018-05-01'\n",
    "end_date = '2023-05-01'\n",
    "\n",
    "crypto_symbols = ['BTC', 'ETH', 'BNB', 'ADA', 'SOL', 'DOGE']\n",
    "\n",
    "get_crypto_data(binance_api_key, binance_secret_key, crypto_symbols, start_date, end_date)"
   ],
   "metadata": {
    "collapsed": false,
    "ExecuteTime": {
     "end_time": "2023-05-10T10:26:46.878269800Z",
     "start_time": "2023-05-10T10:23:32.465300700Z"
    }
   }
  },
  {
   "cell_type": "code",
   "execution_count": null,
   "outputs": [],
   "source": [
    "import pytz\n",
    "import pandas as pd\n",
    "import numpy as np\n",
    "import ta\n",
    "\n",
    "crypto_data = {}\n",
    "\n",
    "crypto_symbols = ['BTC', 'ETH', 'BNB', 'ADA', 'SOL', 'DOGE']\n",
    "\n",
    "crypto_data['ADA'] = pd.read_csv('/content/drive/MyDrive/ADA.csv')\n",
    "crypto_data['BNB'] = pd.read_csv('/content/drive/MyDrive/BNB.csv')\n",
    "crypto_data['BTC'] = pd.read_csv('/content/drive/MyDrive/BTC.csv')\n",
    "crypto_data['DOGE'] = pd.read_csv('/content/drive/MyDrive/DOGE.csv')\n",
    "crypto_data['ETH'] = pd.read_csv('/content/drive/MyDrive/ETH.csv')\n",
    "crypto_data['SOL'] = pd.read_csv('/content/drive/MyDrive/SOL.csv')\n",
    "\n",
    "# Step 1: Data Cleaning and Formatting\n",
    "def clean_data(df):\n",
    "    df['open_time'] = pd.to_datetime(df['open_time'], unit='ns').dt.floor('ns').dt.tz_localize(pytz.utc)\n",
    "    df['close_time'] = pd.to_datetime(df['close_time'], unit='ns').dt.floor('ns').dt.tz_localize(pytz.utc)\n",
    "\n",
    "    df = df[['open_time', 'open', 'high', 'low', 'close', 'volume']]\n",
    "    df.columns = ['date', 'open', 'high', 'low', 'close', 'volume']\n",
    "    df = df.set_index('date')\n",
    "    df = df.sort_index()\n",
    "    df = df.fillna(method='ffill')\n",
    "    return df\n",
    "\n",
    "for symbol in crypto_symbols:\n",
    "    df = crypto_data[symbol]\n",
    "    df = clean_data(df)\n",
    "    crypto_data[symbol] = df\n",
    "\n",
    "# Step 2: Technical Indicator Creation\n",
    "def create_technical_indicators(df):\n",
    "    df['daily_return'] = df['close'].pct_change()\n",
    "    df['ma_7'] = ta.volatility.bollinger_mavg(df['close'], window=7)\n",
    "    df['ma_14'] = ta.volatility.bollinger_mavg(df['close'], window=14)\n",
    "    df['ma_21'] = ta.volatility.bollinger_mavg(df['close'], window=21)\n",
    "    df['rsi_7'] = ta.momentum.rsi(df['close'], window=7)\n",
    "    df['rsi_14'] = ta.momentum.rsi(df['close'], window=14)\n",
    "    df['rsi_21'] = ta.momentum.rsi(df['close'], window=21)\n",
    "    df['lower_band'] = ta.volatility.bollinger_lband(df['close'], window=20, window_dev=2)\n",
    "    df['upper_band'] = ta.volatility.bollinger_hband(df['close'], window=20, window_dev=2)\n",
    "    df['middle_band'] = ta.volatility.bollinger_mavg(df['close'], window=20)\n",
    "    df['stoch'] = ta.momentum.stoch(df['high'], df['low'], df['close'], window=14, smooth_window=3)\n",
    "    macd = ta.trend.macd(df['close'], window_slow=26, window_fast=12)\n",
    "    signal_line = macd.ewm(span=9, adjust=False).mean()\n",
    "    histogram = macd - signal_line\n",
    "\n",
    "    df['macd'] = macd\n",
    "    df['signal_line'] = signal_line\n",
    "    df['histogram'] = histogram\n",
    "\n",
    "    return df\n",
    "\n",
    "for symbol in crypto_symbols:\n",
    "    df = crypto_data[symbol]\n",
    "    df = create_technical_indicators(df)\n",
    "    crypto_data[symbol] = df\n",
    "\n",
    "# Step 3: Feature Engineering\n",
    "def create_features(df):\n",
    "    df['open_trend'] = df['open'] - df['close'].shift(1)\n",
    "    df['close_trend'] = df['close'] - df['close'].shift(1)\n",
    "    df['high_trend'] = df['high'] - df['high'].shift(1)\n",
    "    df['low_trend'] = df['low'] - df['low'].shift(1)\n",
    "    df['volume_trend'] = df['volume'] - df['volume'].shift(1)\n",
    "    df['return_trend'] = df['daily_return'] - df['daily_return'].shift(1)\n",
    "    df = df.dropna()\n",
    "    return df\n",
    "\n",
    "\n",
    "for symbol in crypto_symbols:\n",
    "    df = crypto_data[symbol]\n",
    "    df = create_features(df)\n",
    "    crypto_data[symbol] = df\n"
   ],
   "metadata": {
    "collapsed": false
   }
  },
  {
   "cell_type": "code",
   "execution_count": 85,
   "outputs": [],
   "source": [
    "crypto_data['BTC']"
   ],
   "metadata": {
    "collapsed": false,
    "ExecuteTime": {
     "end_time": "2023-05-10T10:38:28.408241400Z",
     "start_time": "2023-05-10T10:38:28.387808500Z"
    }
   }
  },
  {
   "cell_type": "code",
   "execution_count": null,
   "outputs": [],
   "source": [
    "import tensorflow as tf\n",
    "from tensorflow.keras.models import Sequential\n",
    "from tensorflow.keras.layers import GRU, Dense\n",
    "\n",
    "# Define the GRU model\n",
    "def create_gru_model():\n",
    "    model = Sequential()\n",
    "    model.add(GRU(16, input_shape=(24, 1)))\n",
    "    model.add(Dense(1))\n",
    "    return model\n",
    "\n",
    "# Prepare the data for training\n",
    "def prepare_data(df):\n",
    "    X = df[['open', 'high', 'low', 'close', 'volume', 'ma_7', 'ma_14', 'ma_21', 'rsi_7', 'rsi_14', 'rsi_21', 'lower_band', 'upper_band', 'middle_band', 'stoch', 'macd', 'signal_line', 'histogram', 'open_trend', 'close_trend', 'high_trend', 'low_trend', 'volume_trend', 'return_trend']].values\n",
    "    y = df['daily_return'].values\n",
    "    X = tf.expand_dims(X, axis=-1)\n",
    "    return X, y\n",
    "\n",
    "\n",
    "# Train the GRU model for each cryptocurrency\n",
    "for symbol in crypto_symbols:\n",
    "    df = crypto_data[symbol]\n",
    "    X, y = prepare_data(df)\n",
    "\n",
    "    # Split the data into training and testing sets\n",
    "    split_idx = int(0.8 * len(df))\n",
    "    X_train, X_test = X[:split_idx], X[split_idx:]\n",
    "    y_train, y_test = y[:split_idx], y[split_idx:]\n",
    "\n",
    "    # Create the GRU model\n",
    "    model = create_gru_model()\n",
    "\n",
    "    # Compile and train the model\n",
    "    model.compile(optimizer='adam', loss='mean_squared_error')\n",
    "    model.fit(X_train, y_train, epochs=10, batch_size=32, verbose=2)\n",
    "\n",
    "    # Evaluate the model\n",
    "    loss = model.evaluate(X_test, y_test)\n",
    "    print(f'{symbol} - Loss: {loss}')\n"
   ],
   "metadata": {
    "collapsed": false
   }
  }
 ],
 "metadata": {
  "kernelspec": {
   "display_name": "Python 3",
   "language": "python",
   "name": "python3"
  },
  "language_info": {
   "codemirror_mode": {
    "name": "ipython",
    "version": 2
   },
   "file_extension": ".py",
   "mimetype": "text/x-python",
   "name": "python",
   "nbconvert_exporter": "python",
   "pygments_lexer": "ipython2",
   "version": "2.7.6"
  }
 },
 "nbformat": 4,
 "nbformat_minor": 0
}
